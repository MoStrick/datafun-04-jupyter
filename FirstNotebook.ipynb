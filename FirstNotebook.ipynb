{
 "cells": [
  {
   "cell_type": "code",
   "execution_count": 29,
   "metadata": {},
   "outputs": [
    {
     "data": {
      "text/plain": [
       "'Area of a Circle = 3.142 * 5 * 5 = 78.54'"
      ]
     },
     "execution_count": 29,
     "metadata": {},
     "output_type": "execute_result"
    }
   ],
   "source": [
    "import math\n",
    "r = 3\n",
    "circumference = 2 * math.pi * r\n",
    "f\"Circumference of a Circle = 2 * {math.pi:.4} * {r} = {circumference:.4}\"\n",
    "'Circumference of a Circle = 2 * 3.142 * 3 = 18.85'\n",
    "\n",
    "r = 5\n",
    "area = math.pi * r * r\n",
    "f\"Area of a Circle = {math.pi:.4} * {r} * {r} = {area:.4}\"\n",
    "'Area of a Circle = 3.142 * 5 * 5 = 78.54'"
   ]
  },
  {
   "cell_type": "code",
   "execution_count": 30,
   "metadata": {},
   "outputs": [
    {
     "data": {
      "text/plain": [
       "'Negative Infinity = -inf'"
      ]
     },
     "execution_count": 30,
     "metadata": {},
     "output_type": "execute_result"
    }
   ],
   "source": [
    "f\"Positive Infinity = {math.inf}\"\n",
    "'Positive Infinity = inf'\n",
    "f\"Negative Infinity = {-math.inf}\"\n",
    "'Negative Infinity = -inf'"
   ]
  },
  {
   "cell_type": "code",
   "execution_count": 31,
   "metadata": {},
   "outputs": [
    {
     "name": "stdout",
     "output_type": "stream",
     "text": [
      "120\n",
      "720\n"
     ]
    }
   ],
   "source": [
    "#Factorials\n",
    "def fact_loop(num):\n",
    "    if num < 0:\n",
    "        return 0\n",
    "    if num == 0:\n",
    "        return 1\n",
    "\n",
    "    factorial = 1\n",
    "    for i in range(1, num + 1):\n",
    "        factorial = factorial * i\n",
    "    return factorial\n",
    "\n",
    "def fact_recursion(num):\n",
    "    if num < 0:\n",
    "        return 0\n",
    "    if num == 0:\n",
    "        return 1\n",
    "\n",
    "    return num * fact_recursion(num - 1)\n",
    "\n",
    "print(fact_loop(5))\n",
    "print(fact_recursion(6))\n",
    "      "
   ]
  },
  {
   "cell_type": "code",
   "execution_count": 32,
   "metadata": {},
   "outputs": [
    {
     "data": {
      "text/plain": [
       "True"
      ]
     },
     "execution_count": 32,
     "metadata": {},
     "output_type": "execute_result"
    }
   ],
   "source": [
    "math.trunc(12.32)\n",
    "\n",
    "math.trunc(-43.24)\n",
    "\n",
    "math.trunc(12.32) == math.floor(12.32)\n",
    "True"
   ]
  },
  {
   "cell_type": "code",
   "execution_count": 33,
   "metadata": {},
   "outputs": [
    {
     "name": "stdout",
     "output_type": "stream",
     "text": [
      "The result of the formula a^2 + b^2 + c^2 with a=2.0, b=4.0, and c=-12.0 is 1.6457513110645907 and -3.6457513110645907.\n"
     ]
    }
   ],
   "source": [
    "# Step 1: Ask for input from the user\n",
    "a = input(\"Enter the value for a: \")\n",
    "b = input(\"Enter the value for b: \")\n",
    "c = input(\"Enter the value for c: \")\n",
    "\n",
    "# Step 2: Convert the input values to floats\n",
    "a = float(a)\n",
    "b = float(b)\n",
    "c = float(c)\n",
    "\n",
    "# Step 3: Use the input values in a formula (example: a^2 + b^2 + c^2)\n",
    "solution1 = (-b+math.sqrt(b**2-4*a*c))/(2*a)\n",
    "solution2 = (-b-math.sqrt(b**2-4*a*c))/(2*a)\n",
    "\n",
    "\n",
    "# Step 4: Print the result in a sentence\n",
    "print(f\"The result of the formula a^2 + b^2 + c^2 with a={a}, b={b}, and c={c} is {solution1} and {solution2}.\")\n"
   ]
  },
  {
   "cell_type": "code",
   "execution_count": 34,
   "metadata": {},
   "outputs": [
    {
     "name": "stdout",
     "output_type": "stream",
     "text": [
      "In a right triangle with legs AB and BC, the length of the hyptenuse is {hyp} units\n"
     ]
    }
   ],
   "source": [
    "AB = 10\n",
    "BC = 20\n",
    "\n",
    "hyp= round(math.sqrt(AB**2 + BC**2),2)\n",
    "\n",
    "\n",
    "print(\"In a right triangle with legs AB and BC, the length of the hyptenuse is {hyp} units\")\n",
    "\n"
   ]
  },
  {
   "cell_type": "markdown",
   "metadata": {},
   "source": [
    "$\\hat{Y} = \\hat{\\beta}_{0} + \\sum \\limits _{j=1} ^{p} X_{j}\\hat{\\beta}_{j} $"
   ]
  },
  {
   "cell_type": "markdown",
   "metadata": {},
   "source": [
    "\\begin{align}\n",
    "\\dot{x} & = \\sigma(y-x) \\\\\n",
    "\\dot{y} & = \\rho x - y - xz \\\\\n",
    "\\dot{z} & = -\\beta z + xy\n",
    "\\end{align}\n"
   ]
  }
 ],
 "metadata": {
  "kernelspec": {
   "display_name": ".venv",
   "language": "python",
   "name": "python3"
  },
  "language_info": {
   "codemirror_mode": {
    "name": "ipython",
    "version": 3
   },
   "file_extension": ".py",
   "mimetype": "text/x-python",
   "name": "python",
   "nbconvert_exporter": "python",
   "pygments_lexer": "ipython3",
   "version": "3.12.3"
  }
 },
 "nbformat": 4,
 "nbformat_minor": 2
}
